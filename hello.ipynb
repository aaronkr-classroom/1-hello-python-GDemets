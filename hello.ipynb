{
 "cells": [
  {
   "cell_type": "markdown",
   "id": "ba3bf8d0",
   "metadata": {},
   "source": [
    "# Hello World~\n",
    "\n",
    "## This is Guillaume\n",
    "\n",
    "This is a test."
   ]
  },
  {
   "cell_type": "markdown",
   "id": "25ca2793",
   "metadata": {},
   "source": [
    "*you* = italic\n",
    "**you** / __you__ = bold\n",
    "[You](https//youtube.com) = hyperlink\n",
    "\n",
    "---\n",
    "## type of list\n",
    "1. you1\n",
    "1. you2\n",
    "- you\n",
    "- you\n",
    "* you \n",
    "* you\n"
   ]
  }
 ],
 "metadata": {
  "language_info": {
   "name": "python"
  }
 },
 "nbformat": 4,
 "nbformat_minor": 5
}
